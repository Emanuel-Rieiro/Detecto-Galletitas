{
 "cells": [
  {
   "cell_type": "code",
   "execution_count": null,
   "id": "d6b8b652",
   "metadata": {},
   "outputs": [],
   "source": [
    "from detecto import core, utils, visualize\n",
    "\n",
    "dataset = core.Dataset('Imagenes/')\n",
    "model = core.Model(['lulu', 'oreo', 'solar'])\n",
    "\n",
    "model.fit(dataset)"
   ]
  },
  {
   "cell_type": "code",
   "execution_count": null,
   "id": "4241e7c4",
   "metadata": {},
   "outputs": [],
   "source": [
    "from detecto.visualize import detect_video, detect_live\n",
    "\n",
    "detect_video(model, 'Videos/3 galletas.mp4', 'Videos/3 galletas prediction.avi')\n",
    "detect_video(model, 'Videos/solar rotacion.mp4', 'Videos/solar rotacion prediction.avi')\n",
    "detect_video(model, 'Videos/lulu rotacion.mp4', 'Videos/lulu rotacion prediction.avi')\n",
    "detect_video(model, 'Videos/oreo rotacion.mp4', 'Videos/oreo rotacion prediction.avi')"
   ]
  }
 ],
 "metadata": {
  "kernelspec": {
   "display_name": "Galletitas",
   "language": "python",
   "name": "myenv"
  },
  "language_info": {
   "codemirror_mode": {
    "name": "ipython",
    "version": 3
   },
   "file_extension": ".py",
   "mimetype": "text/x-python",
   "name": "python",
   "nbconvert_exporter": "python",
   "pygments_lexer": "ipython3",
   "version": "3.9.12"
  }
 },
 "nbformat": 4,
 "nbformat_minor": 5
}
